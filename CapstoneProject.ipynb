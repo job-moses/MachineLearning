{
  "cells": [
    {
      "cell_type": "markdown",
      "metadata": {
        "id": "view-in-github",
        "colab_type": "text"
      },
      "source": [
        "<a href=\"https://colab.research.google.com/github/job-moses/MachineLearning/blob/main/CapstoneProject.ipynb\" target=\"_parent\"><img src=\"https://colab.research.google.com/assets/colab-badge.svg\" alt=\"Open In Colab\"/></a>"
      ]
    },
    {
      "cell_type": "markdown",
      "id": "9acec760",
      "metadata": {
        "id": "9acec760"
      },
      "source": [
        "## PART 1. COMPARING 5 PREDICTIVE MODEL ON BOSTON HOUSE PRICING DATASET"
      ]
    },
    {
      "cell_type": "markdown",
      "id": "cfd4cb6a",
      "metadata": {
        "id": "cfd4cb6a"
      },
      "source": [
        "## About The Dataset\n",
        "\n",
        "Boston Housing dataset contains 13 features (independent variables) that describe various aspects of housing in different neighborhoods of Boston. Here is an outline of the full meaning of each feature:\n",
        "\n",
        "1. **CRIM: Per capita crime rate by town**\n",
        "   - This represents the crime rate in the town. Higher values indicate higher crime rates.\n",
        "\n",
        "2. **ZN: Proportion of residential land zoned for lots over 25,000 sq. ft.**\n",
        "   - This feature represents the proportion of large residential lots. It provides information about the zoning regulations related to the size of residential land.\n",
        "\n",
        "3. **INDUS: Proportion of non-retail business acres per town**\n",
        "   - INDUS represents the proportion of non-retail business areas. It provides insights into the industrial nature of the town.\n",
        "\n",
        "4. **CHAS: Charles River dummy variable (1 if tract bounds river; 0 otherwise)**\n",
        "   - This is a binary indicator that tells whether a tract is located along the Charles River (1) or not (0).\n",
        "\n",
        "5. **NOX: Nitric oxides concentration (parts per 10 million)**\n",
        "   - NOX represents the concentration of nitric oxides in the air. It is a measure of air pollution.\n",
        "\n",
        "6. **RM: Average number of rooms per dwelling**\n",
        "   - RM represents the average number of rooms in a dwelling. It gives an indication of the size of houses in the town.\n",
        "\n",
        "7. **AGE: Proportion of owner-occupied units built prior to 1940**\n",
        "   - AGE represents the proportion of owner-occupied units that were built before 1940. It provides information about the age of the housing stock.\n",
        "\n",
        "8. **DIS: Weighted distances to five Boston employment centers**\n",
        "   - DIS represents the weighted distances from the residential areas to five employment centers. It gives an idea of the accessibility to employment.\n",
        "\n",
        "9. **RAD: Index of accessibility to radial highways**\n",
        "   - RAD represents an index that measures the accessibility to radial highways. Higher values indicate better accessibility.\n",
        "\n",
        "10. **TAX: Full-value property tax rate per $10,000**\n",
        "    - TAX represents the property tax rate. It provides information about the tax burden on properties.\n",
        "\n",
        "11. **PTRATIO: Pupil-teacher ratio by town**\n",
        "    - PTRATIO represents the ratio of students to teachers in schools. It is an indicator of the quality of education.\n",
        "\n",
        "12. **B: 1000(Bk - 0.63)^2 where Bk is the proportion of Black residents by town**\n",
        "    - B represents a metric that adjusts for the proportion of Black residents in the town.\n",
        "\n",
        "13. **LSTAT: Percentage of lower status of the population**\n",
        "    - LSTAT represents the percentage of the population with lower socioeconomic status. It is an indicator of the social and economic status of the population.\n",
        "\n",
        "Each of these features provides different perspectives on the characteristics of the neighborhoods in Boston and can be used to predict the median value of owner-occupied homes(the target variable, often referred to as \"PRICE\" in the dataset)."
      ]
    },
    {
      "cell_type": "markdown",
      "id": "6eb04b2b",
      "metadata": {
        "id": "6eb04b2b"
      },
      "source": [
        "## Evaluation Metric\n",
        "The problem involve predicting house prise which is a regression problem, therefore i have decide to use\n",
        "__R2 Metric__\n",
        "The R2\n",
        "(or R Squared) metric provides an indication of the goodness of fit of a set of predictions\n",
        "to the actual values. In statistical literature this measure is called the coefficient of determination.\n",
        "This is a value between 0 and 1 for no-fit and perfect fit respectively. T"
      ]
    },
    {
      "cell_type": "markdown",
      "id": "02b135f5",
      "metadata": {
        "id": "02b135f5"
      },
      "source": [
        "## Importing Libraries"
      ]
    },
    {
      "cell_type": "code",
      "execution_count": null,
      "id": "1ddb3ec1",
      "metadata": {
        "id": "1ddb3ec1"
      },
      "outputs": [],
      "source": [
        "import pandas as pd\n",
        "import matplotlib.pyplot as plt\n",
        "import seaborn as sns\n",
        "from sklearn.preprocessing import StandardScaler\n",
        "from sklearn.model_selection import train_test_split, KFold, cross_val_score, GridSearchCV\n",
        "from sklearn.metrics import r2_score\n",
        "#linear models\n",
        "from sklearn.linear_model import LinearRegression\n",
        "from sklearn.linear_model import Ridge\n",
        "from sklearn.linear_model import Lasso\n",
        "from sklearn.linear_model import ElasticNet\n",
        "from sklearn.ensemble import RandomForestRegressor"
      ]
    },
    {
      "cell_type": "code",
      "execution_count": null,
      "id": "7360ba8f",
      "metadata": {
        "id": "7360ba8f"
      },
      "outputs": [],
      "source": [
        "# silent python warnings to have a neat workbook\n",
        "import warnings\n",
        "warnings.filterwarnings(\"ignore\")"
      ]
    },
    {
      "cell_type": "code",
      "execution_count": null,
      "id": "7f218155",
      "metadata": {
        "id": "7f218155"
      },
      "outputs": [],
      "source": [
        "# read the boston dataset\n",
        "df = pd.read_csv('boston_house_prices.csv',skiprows=1)"
      ]
    },
    {
      "cell_type": "code",
      "execution_count": null,
      "id": "f326066c",
      "metadata": {
        "id": "f326066c",
        "outputId": "2a0ef988-2c20-4554-9ce9-882e9f363ac0"
      },
      "outputs": [
        {
          "data": {
            "text/html": [
              "<div>\n",
              "<style scoped>\n",
              "    .dataframe tbody tr th:only-of-type {\n",
              "        vertical-align: middle;\n",
              "    }\n",
              "\n",
              "    .dataframe tbody tr th {\n",
              "        vertical-align: top;\n",
              "    }\n",
              "\n",
              "    .dataframe thead th {\n",
              "        text-align: right;\n",
              "    }\n",
              "</style>\n",
              "<table border=\"1\" class=\"dataframe\">\n",
              "  <thead>\n",
              "    <tr style=\"text-align: right;\">\n",
              "      <th></th>\n",
              "      <th>CRIM</th>\n",
              "      <th>ZN</th>\n",
              "      <th>INDUS</th>\n",
              "      <th>CHAS</th>\n",
              "      <th>NOX</th>\n",
              "      <th>RM</th>\n",
              "      <th>AGE</th>\n",
              "      <th>DIS</th>\n",
              "      <th>RAD</th>\n",
              "      <th>TAX</th>\n",
              "      <th>PTRATIO</th>\n",
              "      <th>B</th>\n",
              "      <th>LSTAT</th>\n",
              "      <th>MEDV</th>\n",
              "    </tr>\n",
              "  </thead>\n",
              "  <tbody>\n",
              "    <tr>\n",
              "      <th>0</th>\n",
              "      <td>0.00632</td>\n",
              "      <td>18.0</td>\n",
              "      <td>2.31</td>\n",
              "      <td>0</td>\n",
              "      <td>0.538</td>\n",
              "      <td>6.575</td>\n",
              "      <td>65.2</td>\n",
              "      <td>4.0900</td>\n",
              "      <td>1</td>\n",
              "      <td>296</td>\n",
              "      <td>15.3</td>\n",
              "      <td>396.90</td>\n",
              "      <td>4.98</td>\n",
              "      <td>24.0</td>\n",
              "    </tr>\n",
              "    <tr>\n",
              "      <th>1</th>\n",
              "      <td>0.02731</td>\n",
              "      <td>0.0</td>\n",
              "      <td>7.07</td>\n",
              "      <td>0</td>\n",
              "      <td>0.469</td>\n",
              "      <td>6.421</td>\n",
              "      <td>78.9</td>\n",
              "      <td>4.9671</td>\n",
              "      <td>2</td>\n",
              "      <td>242</td>\n",
              "      <td>17.8</td>\n",
              "      <td>396.90</td>\n",
              "      <td>9.14</td>\n",
              "      <td>21.6</td>\n",
              "    </tr>\n",
              "    <tr>\n",
              "      <th>2</th>\n",
              "      <td>0.02729</td>\n",
              "      <td>0.0</td>\n",
              "      <td>7.07</td>\n",
              "      <td>0</td>\n",
              "      <td>0.469</td>\n",
              "      <td>7.185</td>\n",
              "      <td>61.1</td>\n",
              "      <td>4.9671</td>\n",
              "      <td>2</td>\n",
              "      <td>242</td>\n",
              "      <td>17.8</td>\n",
              "      <td>392.83</td>\n",
              "      <td>4.03</td>\n",
              "      <td>34.7</td>\n",
              "    </tr>\n",
              "    <tr>\n",
              "      <th>3</th>\n",
              "      <td>0.03237</td>\n",
              "      <td>0.0</td>\n",
              "      <td>2.18</td>\n",
              "      <td>0</td>\n",
              "      <td>0.458</td>\n",
              "      <td>6.998</td>\n",
              "      <td>45.8</td>\n",
              "      <td>6.0622</td>\n",
              "      <td>3</td>\n",
              "      <td>222</td>\n",
              "      <td>18.7</td>\n",
              "      <td>394.63</td>\n",
              "      <td>2.94</td>\n",
              "      <td>33.4</td>\n",
              "    </tr>\n",
              "    <tr>\n",
              "      <th>4</th>\n",
              "      <td>0.06905</td>\n",
              "      <td>0.0</td>\n",
              "      <td>2.18</td>\n",
              "      <td>0</td>\n",
              "      <td>0.458</td>\n",
              "      <td>7.147</td>\n",
              "      <td>54.2</td>\n",
              "      <td>6.0622</td>\n",
              "      <td>3</td>\n",
              "      <td>222</td>\n",
              "      <td>18.7</td>\n",
              "      <td>396.90</td>\n",
              "      <td>5.33</td>\n",
              "      <td>36.2</td>\n",
              "    </tr>\n",
              "  </tbody>\n",
              "</table>\n",
              "</div>"
            ],
            "text/plain": [
              "      CRIM    ZN  INDUS  CHAS    NOX     RM   AGE     DIS  RAD  TAX  PTRATIO  \\\n",
              "0  0.00632  18.0   2.31     0  0.538  6.575  65.2  4.0900    1  296     15.3   \n",
              "1  0.02731   0.0   7.07     0  0.469  6.421  78.9  4.9671    2  242     17.8   \n",
              "2  0.02729   0.0   7.07     0  0.469  7.185  61.1  4.9671    2  242     17.8   \n",
              "3  0.03237   0.0   2.18     0  0.458  6.998  45.8  6.0622    3  222     18.7   \n",
              "4  0.06905   0.0   2.18     0  0.458  7.147  54.2  6.0622    3  222     18.7   \n",
              "\n",
              "        B  LSTAT  MEDV  \n",
              "0  396.90   4.98  24.0  \n",
              "1  396.90   9.14  21.6  \n",
              "2  392.83   4.03  34.7  \n",
              "3  394.63   2.94  33.4  \n",
              "4  396.90   5.33  36.2  "
            ]
          },
          "execution_count": 7,
          "metadata": {},
          "output_type": "execute_result"
        }
      ],
      "source": [
        "df.head()"
      ]
    },
    {
      "cell_type": "code",
      "execution_count": null,
      "id": "68427dbd",
      "metadata": {
        "id": "68427dbd",
        "outputId": "fb3b544e-f7fc-481c-bf19-e83de1dffafc"
      },
      "outputs": [
        {
          "data": {
            "text/html": [
              "<div>\n",
              "<style scoped>\n",
              "    .dataframe tbody tr th:only-of-type {\n",
              "        vertical-align: middle;\n",
              "    }\n",
              "\n",
              "    .dataframe tbody tr th {\n",
              "        vertical-align: top;\n",
              "    }\n",
              "\n",
              "    .dataframe thead th {\n",
              "        text-align: right;\n",
              "    }\n",
              "</style>\n",
              "<table border=\"1\" class=\"dataframe\">\n",
              "  <thead>\n",
              "    <tr style=\"text-align: right;\">\n",
              "      <th></th>\n",
              "      <th>CRIM</th>\n",
              "      <th>ZN</th>\n",
              "      <th>INDUS</th>\n",
              "      <th>CHAS</th>\n",
              "      <th>NOX</th>\n",
              "      <th>RM</th>\n",
              "      <th>AGE</th>\n",
              "      <th>DIS</th>\n",
              "      <th>RAD</th>\n",
              "      <th>TAX</th>\n",
              "      <th>PTRATIO</th>\n",
              "      <th>B</th>\n",
              "      <th>LSTAT</th>\n",
              "      <th>MEDV</th>\n",
              "    </tr>\n",
              "  </thead>\n",
              "  <tbody>\n",
              "    <tr>\n",
              "      <th>501</th>\n",
              "      <td>0.06263</td>\n",
              "      <td>0.0</td>\n",
              "      <td>11.93</td>\n",
              "      <td>0</td>\n",
              "      <td>0.573</td>\n",
              "      <td>6.593</td>\n",
              "      <td>69.1</td>\n",
              "      <td>2.4786</td>\n",
              "      <td>1</td>\n",
              "      <td>273</td>\n",
              "      <td>21.0</td>\n",
              "      <td>391.99</td>\n",
              "      <td>9.67</td>\n",
              "      <td>22.4</td>\n",
              "    </tr>\n",
              "    <tr>\n",
              "      <th>502</th>\n",
              "      <td>0.04527</td>\n",
              "      <td>0.0</td>\n",
              "      <td>11.93</td>\n",
              "      <td>0</td>\n",
              "      <td>0.573</td>\n",
              "      <td>6.120</td>\n",
              "      <td>76.7</td>\n",
              "      <td>2.2875</td>\n",
              "      <td>1</td>\n",
              "      <td>273</td>\n",
              "      <td>21.0</td>\n",
              "      <td>396.90</td>\n",
              "      <td>9.08</td>\n",
              "      <td>20.6</td>\n",
              "    </tr>\n",
              "    <tr>\n",
              "      <th>503</th>\n",
              "      <td>0.06076</td>\n",
              "      <td>0.0</td>\n",
              "      <td>11.93</td>\n",
              "      <td>0</td>\n",
              "      <td>0.573</td>\n",
              "      <td>6.976</td>\n",
              "      <td>91.0</td>\n",
              "      <td>2.1675</td>\n",
              "      <td>1</td>\n",
              "      <td>273</td>\n",
              "      <td>21.0</td>\n",
              "      <td>396.90</td>\n",
              "      <td>5.64</td>\n",
              "      <td>23.9</td>\n",
              "    </tr>\n",
              "    <tr>\n",
              "      <th>504</th>\n",
              "      <td>0.10959</td>\n",
              "      <td>0.0</td>\n",
              "      <td>11.93</td>\n",
              "      <td>0</td>\n",
              "      <td>0.573</td>\n",
              "      <td>6.794</td>\n",
              "      <td>89.3</td>\n",
              "      <td>2.3889</td>\n",
              "      <td>1</td>\n",
              "      <td>273</td>\n",
              "      <td>21.0</td>\n",
              "      <td>393.45</td>\n",
              "      <td>6.48</td>\n",
              "      <td>22.0</td>\n",
              "    </tr>\n",
              "    <tr>\n",
              "      <th>505</th>\n",
              "      <td>0.04741</td>\n",
              "      <td>0.0</td>\n",
              "      <td>11.93</td>\n",
              "      <td>0</td>\n",
              "      <td>0.573</td>\n",
              "      <td>6.030</td>\n",
              "      <td>80.8</td>\n",
              "      <td>2.5050</td>\n",
              "      <td>1</td>\n",
              "      <td>273</td>\n",
              "      <td>21.0</td>\n",
              "      <td>396.90</td>\n",
              "      <td>7.88</td>\n",
              "      <td>11.9</td>\n",
              "    </tr>\n",
              "  </tbody>\n",
              "</table>\n",
              "</div>"
            ],
            "text/plain": [
              "        CRIM   ZN  INDUS  CHAS    NOX     RM   AGE     DIS  RAD  TAX  PTRATIO  \\\n",
              "501  0.06263  0.0  11.93     0  0.573  6.593  69.1  2.4786    1  273     21.0   \n",
              "502  0.04527  0.0  11.93     0  0.573  6.120  76.7  2.2875    1  273     21.0   \n",
              "503  0.06076  0.0  11.93     0  0.573  6.976  91.0  2.1675    1  273     21.0   \n",
              "504  0.10959  0.0  11.93     0  0.573  6.794  89.3  2.3889    1  273     21.0   \n",
              "505  0.04741  0.0  11.93     0  0.573  6.030  80.8  2.5050    1  273     21.0   \n",
              "\n",
              "          B  LSTAT  MEDV  \n",
              "501  391.99   9.67  22.4  \n",
              "502  396.90   9.08  20.6  \n",
              "503  396.90   5.64  23.9  \n",
              "504  393.45   6.48  22.0  \n",
              "505  396.90   7.88  11.9  "
            ]
          },
          "execution_count": 9,
          "metadata": {},
          "output_type": "execute_result"
        }
      ],
      "source": [
        "df.tail()"
      ]
    },
    {
      "cell_type": "code",
      "execution_count": null,
      "id": "3293e491",
      "metadata": {
        "id": "3293e491",
        "outputId": "8a7e1bb5-af54-49a0-fe88-ad40f811c338"
      },
      "outputs": [
        {
          "data": {
            "text/html": [
              "<div>\n",
              "<style scoped>\n",
              "    .dataframe tbody tr th:only-of-type {\n",
              "        vertical-align: middle;\n",
              "    }\n",
              "\n",
              "    .dataframe tbody tr th {\n",
              "        vertical-align: top;\n",
              "    }\n",
              "\n",
              "    .dataframe thead th {\n",
              "        text-align: right;\n",
              "    }\n",
              "</style>\n",
              "<table border=\"1\" class=\"dataframe\">\n",
              "  <thead>\n",
              "    <tr style=\"text-align: right;\">\n",
              "      <th></th>\n",
              "      <th>CRIM</th>\n",
              "      <th>ZN</th>\n",
              "      <th>INDUS</th>\n",
              "      <th>CHAS</th>\n",
              "      <th>NOX</th>\n",
              "      <th>RM</th>\n",
              "      <th>AGE</th>\n",
              "      <th>DIS</th>\n",
              "      <th>RAD</th>\n",
              "      <th>TAX</th>\n",
              "      <th>PTRATIO</th>\n",
              "      <th>B</th>\n",
              "      <th>LSTAT</th>\n",
              "      <th>MEDV</th>\n",
              "    </tr>\n",
              "  </thead>\n",
              "  <tbody>\n",
              "    <tr>\n",
              "      <th>384</th>\n",
              "      <td>20.08490</td>\n",
              "      <td>0.0</td>\n",
              "      <td>18.10</td>\n",
              "      <td>0</td>\n",
              "      <td>0.700</td>\n",
              "      <td>4.368</td>\n",
              "      <td>91.2</td>\n",
              "      <td>1.4395</td>\n",
              "      <td>24</td>\n",
              "      <td>666</td>\n",
              "      <td>20.2</td>\n",
              "      <td>285.83</td>\n",
              "      <td>30.63</td>\n",
              "      <td>8.8</td>\n",
              "    </tr>\n",
              "    <tr>\n",
              "      <th>55</th>\n",
              "      <td>0.01311</td>\n",
              "      <td>90.0</td>\n",
              "      <td>1.22</td>\n",
              "      <td>0</td>\n",
              "      <td>0.403</td>\n",
              "      <td>7.249</td>\n",
              "      <td>21.9</td>\n",
              "      <td>8.6966</td>\n",
              "      <td>5</td>\n",
              "      <td>226</td>\n",
              "      <td>17.9</td>\n",
              "      <td>395.93</td>\n",
              "      <td>4.81</td>\n",
              "      <td>35.4</td>\n",
              "    </tr>\n",
              "    <tr>\n",
              "      <th>397</th>\n",
              "      <td>7.67202</td>\n",
              "      <td>0.0</td>\n",
              "      <td>18.10</td>\n",
              "      <td>0</td>\n",
              "      <td>0.693</td>\n",
              "      <td>5.747</td>\n",
              "      <td>98.9</td>\n",
              "      <td>1.6334</td>\n",
              "      <td>24</td>\n",
              "      <td>666</td>\n",
              "      <td>20.2</td>\n",
              "      <td>393.10</td>\n",
              "      <td>19.92</td>\n",
              "      <td>8.5</td>\n",
              "    </tr>\n",
              "    <tr>\n",
              "      <th>471</th>\n",
              "      <td>4.03841</td>\n",
              "      <td>0.0</td>\n",
              "      <td>18.10</td>\n",
              "      <td>0</td>\n",
              "      <td>0.532</td>\n",
              "      <td>6.229</td>\n",
              "      <td>90.7</td>\n",
              "      <td>3.0993</td>\n",
              "      <td>24</td>\n",
              "      <td>666</td>\n",
              "      <td>20.2</td>\n",
              "      <td>395.33</td>\n",
              "      <td>12.87</td>\n",
              "      <td>19.6</td>\n",
              "    </tr>\n",
              "    <tr>\n",
              "      <th>418</th>\n",
              "      <td>73.53410</td>\n",
              "      <td>0.0</td>\n",
              "      <td>18.10</td>\n",
              "      <td>0</td>\n",
              "      <td>0.679</td>\n",
              "      <td>5.957</td>\n",
              "      <td>100.0</td>\n",
              "      <td>1.8026</td>\n",
              "      <td>24</td>\n",
              "      <td>666</td>\n",
              "      <td>20.2</td>\n",
              "      <td>16.45</td>\n",
              "      <td>20.62</td>\n",
              "      <td>8.8</td>\n",
              "    </tr>\n",
              "  </tbody>\n",
              "</table>\n",
              "</div>"
            ],
            "text/plain": [
              "         CRIM    ZN  INDUS  CHAS    NOX     RM    AGE     DIS  RAD  TAX  \\\n",
              "384  20.08490   0.0  18.10     0  0.700  4.368   91.2  1.4395   24  666   \n",
              "55    0.01311  90.0   1.22     0  0.403  7.249   21.9  8.6966    5  226   \n",
              "397   7.67202   0.0  18.10     0  0.693  5.747   98.9  1.6334   24  666   \n",
              "471   4.03841   0.0  18.10     0  0.532  6.229   90.7  3.0993   24  666   \n",
              "418  73.53410   0.0  18.10     0  0.679  5.957  100.0  1.8026   24  666   \n",
              "\n",
              "     PTRATIO       B  LSTAT  MEDV  \n",
              "384     20.2  285.83  30.63   8.8  \n",
              "55      17.9  395.93   4.81  35.4  \n",
              "397     20.2  393.10  19.92   8.5  \n",
              "471     20.2  395.33  12.87  19.6  \n",
              "418     20.2   16.45  20.62   8.8  "
            ]
          },
          "execution_count": 11,
          "metadata": {},
          "output_type": "execute_result"
        }
      ],
      "source": [
        "df.sample(5)"
      ]
    },
    {
      "cell_type": "code",
      "execution_count": null,
      "id": "5d57c6f6",
      "metadata": {
        "id": "5d57c6f6",
        "outputId": "d4debb83-c4fe-4ff7-a1ef-8fd630949d96"
      },
      "outputs": [
        {
          "data": {
            "text/plain": [
              "(506, 14)"
            ]
          },
          "execution_count": 12,
          "metadata": {},
          "output_type": "execute_result"
        }
      ],
      "source": [
        "df.shape"
      ]
    },
    {
      "cell_type": "code",
      "execution_count": null,
      "id": "e52bed16",
      "metadata": {
        "id": "e52bed16",
        "outputId": "332972ee-de03-42fc-bcf6-3261a26846b8"
      },
      "outputs": [
        {
          "name": "stdout",
          "output_type": "stream",
          "text": [
            "The dataset consist of 506 rows and 14 columns\n"
          ]
        }
      ],
      "source": [
        "print(f\"The dataset consist of {df.shape[0]} rows and {df.shape[1]} columns\")"
      ]
    },
    {
      "cell_type": "code",
      "execution_count": null,
      "id": "e043a1fd",
      "metadata": {
        "id": "e043a1fd",
        "outputId": "4450486a-0ca9-475e-e799-f1c843a67f3e"
      },
      "outputs": [
        {
          "data": {
            "text/plain": [
              "Index(['CRIM', 'ZN', 'INDUS', 'CHAS', 'NOX', 'RM', 'AGE', 'DIS', 'RAD', 'TAX',\n",
              "       'PTRATIO', 'B', 'LSTAT', 'MEDV'],\n",
              "      dtype='object')"
            ]
          },
          "execution_count": 15,
          "metadata": {},
          "output_type": "execute_result"
        }
      ],
      "source": [
        "df.columns"
      ]
    },
    {
      "cell_type": "code",
      "execution_count": null,
      "id": "45ff19b9",
      "metadata": {
        "id": "45ff19b9",
        "outputId": "bfa753b7-3376-4e61-a67d-292ba9f9e22f"
      },
      "outputs": [
        {
          "name": "stdout",
          "output_type": "stream",
          "text": [
            "<class 'pandas.core.frame.DataFrame'>\n",
            "RangeIndex: 506 entries, 0 to 505\n",
            "Data columns (total 14 columns):\n",
            " #   Column   Non-Null Count  Dtype  \n",
            "---  ------   --------------  -----  \n",
            " 0   CRIM     506 non-null    float64\n",
            " 1   ZN       506 non-null    float64\n",
            " 2   INDUS    506 non-null    float64\n",
            " 3   CHAS     506 non-null    int64  \n",
            " 4   NOX      506 non-null    float64\n",
            " 5   RM       506 non-null    float64\n",
            " 6   AGE      506 non-null    float64\n",
            " 7   DIS      506 non-null    float64\n",
            " 8   RAD      506 non-null    int64  \n",
            " 9   TAX      506 non-null    int64  \n",
            " 10  PTRATIO  506 non-null    float64\n",
            " 11  B        506 non-null    float64\n",
            " 12  LSTAT    506 non-null    float64\n",
            " 13  MEDV     506 non-null    float64\n",
            "dtypes: float64(11), int64(3)\n",
            "memory usage: 55.5 KB\n"
          ]
        }
      ],
      "source": [
        "df.info()"
      ]
    },
    {
      "cell_type": "code",
      "execution_count": null,
      "id": "a928f102",
      "metadata": {
        "id": "a928f102",
        "outputId": "8496d76f-5b9b-4d82-f46f-412be1241a48"
      },
      "outputs": [
        {
          "data": {
            "text/plain": [
              "CRIM       0\n",
              "ZN         0\n",
              "INDUS      0\n",
              "CHAS       0\n",
              "NOX        0\n",
              "RM         0\n",
              "AGE        0\n",
              "DIS        0\n",
              "RAD        0\n",
              "TAX        0\n",
              "PTRATIO    0\n",
              "B          0\n",
              "LSTAT      0\n",
              "MEDV       0\n",
              "dtype: int64"
            ]
          },
          "execution_count": 17,
          "metadata": {},
          "output_type": "execute_result"
        }
      ],
      "source": [
        "df.isnull().sum()"
      ]
    },
    {
      "cell_type": "code",
      "execution_count": null,
      "id": "77d379dc",
      "metadata": {
        "id": "77d379dc",
        "outputId": "d9c8e610-6411-4d1c-8a50-77c3907de228"
      },
      "outputs": [
        {
          "data": {
            "text/plain": [
              "False"
            ]
          },
          "execution_count": 19,
          "metadata": {},
          "output_type": "execute_result"
        }
      ],
      "source": [
        "df.duplicated().any()"
      ]
    },
    {
      "cell_type": "code",
      "execution_count": null,
      "id": "e90eb20d",
      "metadata": {
        "id": "e90eb20d",
        "outputId": "672664f4-1531-41ac-89f3-c0c42a7a8db4"
      },
      "outputs": [
        {
          "data": {
            "text/html": [
              "<div>\n",
              "<style scoped>\n",
              "    .dataframe tbody tr th:only-of-type {\n",
              "        vertical-align: middle;\n",
              "    }\n",
              "\n",
              "    .dataframe tbody tr th {\n",
              "        vertical-align: top;\n",
              "    }\n",
              "\n",
              "    .dataframe thead th {\n",
              "        text-align: right;\n",
              "    }\n",
              "</style>\n",
              "<table border=\"1\" class=\"dataframe\">\n",
              "  <thead>\n",
              "    <tr style=\"text-align: right;\">\n",
              "      <th></th>\n",
              "      <th>CRIM</th>\n",
              "      <th>ZN</th>\n",
              "      <th>INDUS</th>\n",
              "      <th>CHAS</th>\n",
              "      <th>NOX</th>\n",
              "      <th>RM</th>\n",
              "      <th>AGE</th>\n",
              "      <th>DIS</th>\n",
              "      <th>RAD</th>\n",
              "      <th>TAX</th>\n",
              "      <th>PTRATIO</th>\n",
              "      <th>B</th>\n",
              "      <th>LSTAT</th>\n",
              "      <th>MEDV</th>\n",
              "    </tr>\n",
              "  </thead>\n",
              "  <tbody>\n",
              "    <tr>\n",
              "      <th>count</th>\n",
              "      <td>506.000000</td>\n",
              "      <td>506.000000</td>\n",
              "      <td>506.000000</td>\n",
              "      <td>506.000000</td>\n",
              "      <td>506.000000</td>\n",
              "      <td>506.000000</td>\n",
              "      <td>506.000000</td>\n",
              "      <td>506.000000</td>\n",
              "      <td>506.000000</td>\n",
              "      <td>506.000000</td>\n",
              "      <td>506.000000</td>\n",
              "      <td>506.000000</td>\n",
              "      <td>506.000000</td>\n",
              "      <td>506.000000</td>\n",
              "    </tr>\n",
              "    <tr>\n",
              "      <th>mean</th>\n",
              "      <td>3.613524</td>\n",
              "      <td>11.363636</td>\n",
              "      <td>11.136779</td>\n",
              "      <td>0.069170</td>\n",
              "      <td>0.554695</td>\n",
              "      <td>6.284634</td>\n",
              "      <td>68.574901</td>\n",
              "      <td>3.795043</td>\n",
              "      <td>9.549407</td>\n",
              "      <td>408.237154</td>\n",
              "      <td>18.455534</td>\n",
              "      <td>356.674032</td>\n",
              "      <td>12.653063</td>\n",
              "      <td>22.532806</td>\n",
              "    </tr>\n",
              "    <tr>\n",
              "      <th>std</th>\n",
              "      <td>8.601545</td>\n",
              "      <td>23.322453</td>\n",
              "      <td>6.860353</td>\n",
              "      <td>0.253994</td>\n",
              "      <td>0.115878</td>\n",
              "      <td>0.702617</td>\n",
              "      <td>28.148861</td>\n",
              "      <td>2.105710</td>\n",
              "      <td>8.707259</td>\n",
              "      <td>168.537116</td>\n",
              "      <td>2.164946</td>\n",
              "      <td>91.294864</td>\n",
              "      <td>7.141062</td>\n",
              "      <td>9.197104</td>\n",
              "    </tr>\n",
              "    <tr>\n",
              "      <th>min</th>\n",
              "      <td>0.006320</td>\n",
              "      <td>0.000000</td>\n",
              "      <td>0.460000</td>\n",
              "      <td>0.000000</td>\n",
              "      <td>0.385000</td>\n",
              "      <td>3.561000</td>\n",
              "      <td>2.900000</td>\n",
              "      <td>1.129600</td>\n",
              "      <td>1.000000</td>\n",
              "      <td>187.000000</td>\n",
              "      <td>12.600000</td>\n",
              "      <td>0.320000</td>\n",
              "      <td>1.730000</td>\n",
              "      <td>5.000000</td>\n",
              "    </tr>\n",
              "    <tr>\n",
              "      <th>25%</th>\n",
              "      <td>0.082045</td>\n",
              "      <td>0.000000</td>\n",
              "      <td>5.190000</td>\n",
              "      <td>0.000000</td>\n",
              "      <td>0.449000</td>\n",
              "      <td>5.885500</td>\n",
              "      <td>45.025000</td>\n",
              "      <td>2.100175</td>\n",
              "      <td>4.000000</td>\n",
              "      <td>279.000000</td>\n",
              "      <td>17.400000</td>\n",
              "      <td>375.377500</td>\n",
              "      <td>6.950000</td>\n",
              "      <td>17.025000</td>\n",
              "    </tr>\n",
              "    <tr>\n",
              "      <th>50%</th>\n",
              "      <td>0.256510</td>\n",
              "      <td>0.000000</td>\n",
              "      <td>9.690000</td>\n",
              "      <td>0.000000</td>\n",
              "      <td>0.538000</td>\n",
              "      <td>6.208500</td>\n",
              "      <td>77.500000</td>\n",
              "      <td>3.207450</td>\n",
              "      <td>5.000000</td>\n",
              "      <td>330.000000</td>\n",
              "      <td>19.050000</td>\n",
              "      <td>391.440000</td>\n",
              "      <td>11.360000</td>\n",
              "      <td>21.200000</td>\n",
              "    </tr>\n",
              "    <tr>\n",
              "      <th>75%</th>\n",
              "      <td>3.677083</td>\n",
              "      <td>12.500000</td>\n",
              "      <td>18.100000</td>\n",
              "      <td>0.000000</td>\n",
              "      <td>0.624000</td>\n",
              "      <td>6.623500</td>\n",
              "      <td>94.075000</td>\n",
              "      <td>5.188425</td>\n",
              "      <td>24.000000</td>\n",
              "      <td>666.000000</td>\n",
              "      <td>20.200000</td>\n",
              "      <td>396.225000</td>\n",
              "      <td>16.955000</td>\n",
              "      <td>25.000000</td>\n",
              "    </tr>\n",
              "    <tr>\n",
              "      <th>max</th>\n",
              "      <td>88.976200</td>\n",
              "      <td>100.000000</td>\n",
              "      <td>27.740000</td>\n",
              "      <td>1.000000</td>\n",
              "      <td>0.871000</td>\n",
              "      <td>8.780000</td>\n",
              "      <td>100.000000</td>\n",
              "      <td>12.126500</td>\n",
              "      <td>24.000000</td>\n",
              "      <td>711.000000</td>\n",
              "      <td>22.000000</td>\n",
              "      <td>396.900000</td>\n",
              "      <td>37.970000</td>\n",
              "      <td>50.000000</td>\n",
              "    </tr>\n",
              "  </tbody>\n",
              "</table>\n",
              "</div>"
            ],
            "text/plain": [
              "             CRIM          ZN       INDUS        CHAS         NOX          RM  \\\n",
              "count  506.000000  506.000000  506.000000  506.000000  506.000000  506.000000   \n",
              "mean     3.613524   11.363636   11.136779    0.069170    0.554695    6.284634   \n",
              "std      8.601545   23.322453    6.860353    0.253994    0.115878    0.702617   \n",
              "min      0.006320    0.000000    0.460000    0.000000    0.385000    3.561000   \n",
              "25%      0.082045    0.000000    5.190000    0.000000    0.449000    5.885500   \n",
              "50%      0.256510    0.000000    9.690000    0.000000    0.538000    6.208500   \n",
              "75%      3.677083   12.500000   18.100000    0.000000    0.624000    6.623500   \n",
              "max     88.976200  100.000000   27.740000    1.000000    0.871000    8.780000   \n",
              "\n",
              "              AGE         DIS         RAD         TAX     PTRATIO           B  \\\n",
              "count  506.000000  506.000000  506.000000  506.000000  506.000000  506.000000   \n",
              "mean    68.574901    3.795043    9.549407  408.237154   18.455534  356.674032   \n",
              "std     28.148861    2.105710    8.707259  168.537116    2.164946   91.294864   \n",
              "min      2.900000    1.129600    1.000000  187.000000   12.600000    0.320000   \n",
              "25%     45.025000    2.100175    4.000000  279.000000   17.400000  375.377500   \n",
              "50%     77.500000    3.207450    5.000000  330.000000   19.050000  391.440000   \n",
              "75%     94.075000    5.188425   24.000000  666.000000   20.200000  396.225000   \n",
              "max    100.000000   12.126500   24.000000  711.000000   22.000000  396.900000   \n",
              "\n",
              "            LSTAT        MEDV  \n",
              "count  506.000000  506.000000  \n",
              "mean    12.653063   22.532806  \n",
              "std      7.141062    9.197104  \n",
              "min      1.730000    5.000000  \n",
              "25%      6.950000   17.025000  \n",
              "50%     11.360000   21.200000  \n",
              "75%     16.955000   25.000000  \n",
              "max     37.970000   50.000000  "
            ]
          },
          "execution_count": 20,
          "metadata": {},
          "output_type": "execute_result"
        }
      ],
      "source": [
        "df.describe()"
      ]
    },
    {
      "cell_type": "markdown",
      "id": "b1f3f706",
      "metadata": {
        "id": "b1f3f706"
      },
      "source": [
        "__Split data into input and output__"
      ]
    },
    {
      "cell_type": "code",
      "execution_count": null,
      "id": "69555fc8",
      "metadata": {
        "id": "69555fc8"
      },
      "outputs": [],
      "source": [
        "X = df.drop('MEDV', axis =1)\n",
        "y = df['MEDV']"
      ]
    },
    {
      "cell_type": "markdown",
      "id": "ea2ee43b",
      "metadata": {
        "id": "ea2ee43b"
      },
      "source": [
        "### 1. Data Splitting – Split the data into training and testing datasets"
      ]
    },
    {
      "cell_type": "code",
      "execution_count": null,
      "id": "1d01bf99",
      "metadata": {
        "id": "1d01bf99"
      },
      "outputs": [],
      "source": [
        "train_X,test_X, train_y, test_y = train_test_split(X,y, test_size = 0.2, random_state = 0)"
      ]
    },
    {
      "cell_type": "markdown",
      "id": "09ea1fbc",
      "metadata": {
        "id": "09ea1fbc"
      },
      "source": [
        "### 2. Model building and Evaluation"
      ]
    },
    {
      "cell_type": "code",
      "execution_count": null,
      "id": "e2d3af56",
      "metadata": {
        "id": "e2d3af56",
        "outputId": "5f21e083-8c46-4a88-fa44-c9aae233e821"
      },
      "outputs": [
        {
          "data": {
            "application/javascript": [
              "\n",
              "        if (window._pyforest_update_imports_cell) { window._pyforest_update_imports_cell('from sklearn.model_selection import cross_val_score\\nfrom sklearn.model_selection import train_test_split\\nimport numpy as np\\nfrom sklearn.ensemble import RandomForestRegressor\\nfrom sklearn.linear_model import LinearRegression'); }\n",
              "    "
            ],
            "text/plain": [
              "<IPython.core.display.Javascript object>"
            ]
          },
          "metadata": {},
          "output_type": "display_data"
        },
        {
          "data": {
            "application/javascript": [
              "\n",
              "        if (window._pyforest_update_imports_cell) { window._pyforest_update_imports_cell('from sklearn.model_selection import cross_val_score\\nfrom sklearn.model_selection import train_test_split\\nimport numpy as np\\nfrom sklearn.ensemble import RandomForestRegressor\\nfrom sklearn.linear_model import LinearRegression'); }\n",
              "    "
            ],
            "text/plain": [
              "<IPython.core.display.Javascript object>"
            ]
          },
          "metadata": {},
          "output_type": "display_data"
        },
        {
          "data": {
            "application/javascript": [
              "\n",
              "        if (window._pyforest_update_imports_cell) { window._pyforest_update_imports_cell('from sklearn.model_selection import cross_val_score\\nfrom sklearn.model_selection import train_test_split\\nimport numpy as np\\nfrom sklearn.ensemble import RandomForestRegressor\\nfrom sklearn.linear_model import LinearRegression'); }\n",
              "    "
            ],
            "text/plain": [
              "<IPython.core.display.Javascript object>"
            ]
          },
          "metadata": {},
          "output_type": "display_data"
        },
        {
          "data": {
            "application/javascript": [
              "\n",
              "        if (window._pyforest_update_imports_cell) { window._pyforest_update_imports_cell('from sklearn.model_selection import cross_val_score\\nfrom sklearn.model_selection import train_test_split\\nimport numpy as np\\nfrom sklearn.ensemble import RandomForestRegressor\\nfrom sklearn.linear_model import LinearRegression'); }\n",
              "    "
            ],
            "text/plain": [
              "<IPython.core.display.Javascript object>"
            ]
          },
          "metadata": {},
          "output_type": "display_data"
        },
        {
          "data": {
            "application/javascript": [
              "\n",
              "        if (window._pyforest_update_imports_cell) { window._pyforest_update_imports_cell('from sklearn.model_selection import cross_val_score\\nfrom sklearn.model_selection import train_test_split\\nimport numpy as np\\nfrom sklearn.ensemble import RandomForestRegressor\\nfrom sklearn.linear_model import LinearRegression'); }\n",
              "    "
            ],
            "text/plain": [
              "<IPython.core.display.Javascript object>"
            ]
          },
          "metadata": {},
          "output_type": "display_data"
        },
        {
          "name": "stdout",
          "output_type": "stream",
          "text": [
            "Training CV result using r2  Metrics\n",
            "\n",
            "LinearRegression :  0.7370 \n",
            "Ridge :  0.7357 \n",
            "Lasso :  0.6850 \n",
            "ElasticNet :  0.6989 \n",
            "RandomForestRegressor :  0.8703 \n",
            "\n",
            " r2 result on testset \n",
            "\n",
            "LinearRegression :  0.5892\n",
            "Ridge :  0.5796\n",
            "Lasso :  0.4879\n",
            "ElasticNet :  0.5006\n",
            "RandomForestRegressor :  0.7806\n",
            "\n",
            " Best Model is RandomForestRegressor with r2_score of 0.7806067008287291\n"
          ]
        }
      ],
      "source": [
        "models = [\n",
        "    ('LinearRegression',LinearRegression()),\n",
        "    ('Ridge',Ridge()),\n",
        "    ('Lasso',Lasso()),\n",
        "    ('ElasticNet',ElasticNet()),\n",
        "    ('RandomForestRegressor',RandomForestRegressor()),\n",
        "\n",
        "]\n",
        "models_cv_results = {}\n",
        "model_scores = {}\n",
        "scoring = 'r2'\n",
        "kfold = KFold(n_splits = 10, shuffle = True, random_state = 0)\n",
        "for model_name, model in models:\n",
        "    model_cv_result = cross_val_score(model, train_X, train_y, cv = kfold, scoring = scoring)\n",
        "    models_cv_results[model_name] = np.mean(model_cv_result)\n",
        "\n",
        "    #fit the model on training set\n",
        "    model.fit(train_X, train_y)\n",
        "\n",
        "    # predict output using testset\n",
        "    pred = model.predict(test_X)\n",
        "\n",
        "    # score the model performance\n",
        "    model_score = r2_score(test_y,pred)\n",
        "    model_scores[model_name] = model_score\n",
        "\n",
        "# print cross validation result on training set\n",
        "print(f\"Training CV result using {scoring}  Metric\\n\")\n",
        "for name, model_r2_score in models_cv_results.items():\n",
        "    print(f\"{name} : {model_r2_score: .4f} \")\n",
        "#print r2_score on test set\n",
        "print(f\"\\n {scoring} result on testset \\n\")\n",
        "for name, model_score in model_scores.items():\n",
        "    print(f\"{name} : {model_score: .4f}\")\n",
        "\n",
        "Best_model = max(model_scores, key = model_scores.get)\n",
        "print(f\"\\n Best Model is {Best_model} with r2_score of {model_scores[Best_model]}\")"
      ]
    },
    {
      "cell_type": "markdown",
      "id": "4ead4560",
      "metadata": {
        "id": "4ead4560"
      },
      "source": [
        "comparing model on __Standardized input variables__"
      ]
    },
    {
      "cell_type": "code",
      "execution_count": null,
      "id": "323c4e61",
      "metadata": {
        "id": "323c4e61",
        "outputId": "bfaf9e73-eb4a-4214-daa1-028f31a399ab"
      },
      "outputs": [
        {
          "data": {
            "application/javascript": [
              "\n",
              "        if (window._pyforest_update_imports_cell) { window._pyforest_update_imports_cell('from sklearn.model_selection import cross_val_score\\nfrom sklearn.model_selection import train_test_split\\nimport numpy as np\\nfrom sklearn.ensemble import RandomForestRegressor\\nfrom sklearn.linear_model import LinearRegression'); }\n",
              "    "
            ],
            "text/plain": [
              "<IPython.core.display.Javascript object>"
            ]
          },
          "metadata": {},
          "output_type": "display_data"
        },
        {
          "data": {
            "application/javascript": [
              "\n",
              "        if (window._pyforest_update_imports_cell) { window._pyforest_update_imports_cell('from sklearn.model_selection import cross_val_score\\nfrom sklearn.model_selection import train_test_split\\nimport numpy as np\\nfrom sklearn.ensemble import RandomForestRegressor\\nfrom sklearn.linear_model import LinearRegression'); }\n",
              "    "
            ],
            "text/plain": [
              "<IPython.core.display.Javascript object>"
            ]
          },
          "metadata": {},
          "output_type": "display_data"
        },
        {
          "data": {
            "application/javascript": [
              "\n",
              "        if (window._pyforest_update_imports_cell) { window._pyforest_update_imports_cell('from sklearn.model_selection import cross_val_score\\nfrom sklearn.model_selection import train_test_split\\nimport numpy as np\\nfrom sklearn.ensemble import RandomForestRegressor\\nfrom sklearn.linear_model import LinearRegression'); }\n",
              "    "
            ],
            "text/plain": [
              "<IPython.core.display.Javascript object>"
            ]
          },
          "metadata": {},
          "output_type": "display_data"
        },
        {
          "data": {
            "application/javascript": [
              "\n",
              "        if (window._pyforest_update_imports_cell) { window._pyforest_update_imports_cell('from sklearn.model_selection import cross_val_score\\nfrom sklearn.model_selection import train_test_split\\nimport numpy as np\\nfrom sklearn.ensemble import RandomForestRegressor\\nfrom sklearn.linear_model import LinearRegression'); }\n",
              "    "
            ],
            "text/plain": [
              "<IPython.core.display.Javascript object>"
            ]
          },
          "metadata": {},
          "output_type": "display_data"
        },
        {
          "data": {
            "application/javascript": [
              "\n",
              "        if (window._pyforest_update_imports_cell) { window._pyforest_update_imports_cell('from sklearn.model_selection import cross_val_score\\nfrom sklearn.model_selection import train_test_split\\nimport numpy as np\\nfrom sklearn.ensemble import RandomForestRegressor\\nfrom sklearn.linear_model import LinearRegression'); }\n",
              "    "
            ],
            "text/plain": [
              "<IPython.core.display.Javascript object>"
            ]
          },
          "metadata": {},
          "output_type": "display_data"
        },
        {
          "name": "stdout",
          "output_type": "stream",
          "text": [
            "Training CV result using r2  Metrics\n",
            "\n",
            "LinearRegression :  0.7370 \n",
            "Ridge :  0.7373 \n",
            "Lasso :  0.6821 \n",
            "ElasticNet :  0.6732 \n",
            "RandomForestRegressor :  0.8741 \n",
            "\n",
            " r2 result on testset \n",
            "\n",
            "LinearRegression :  0.5687\n",
            "Ridge :  0.5679\n",
            "Lasso :  0.5012\n",
            "ElasticNet :  0.4688\n",
            "RandomForestRegressor :  0.7421\n",
            "\n",
            " Best Model is RandomForestRegressor with r2_score of 0.7421314097848315\n"
          ]
        }
      ],
      "source": [
        "scalar = StandardScaler()\n",
        "X_train = scalar.fit_transform(train_X)\n",
        "X_test =  scalar.fit_transform(test_X)\n",
        "models = [\n",
        "    ('LinearRegression',LinearRegression()),\n",
        "    ('Ridge',Ridge()),\n",
        "    ('Lasso',Lasso()),\n",
        "    ('ElasticNet',ElasticNet()),\n",
        "    ('RandomForestRegressor',RandomForestRegressor()),\n",
        "\n",
        "]\n",
        "models_cv_results = {}\n",
        "model_scores = {}\n",
        "scoring = 'r2'\n",
        "kfold = KFold(n_splits = 10, shuffle = True, random_state = 0)\n",
        "for model_name, model in models:\n",
        "    model_cv_result = cross_val_score(model, X_train, train_y, cv = kfold, scoring = scoring)\n",
        "    models_cv_results[model_name] = np.mean(model_cv_result)\n",
        "\n",
        "    #fit the model on training set\n",
        "    model.fit(X_train, train_y)\n",
        "\n",
        "    # predict output using testset\n",
        "    pred = model.predict(X_test)\n",
        "\n",
        "    # score the model performance\n",
        "    model_score = r2_score(test_y,pred)\n",
        "    model_scores[model_name] = model_score\n",
        "\n",
        "# print cross validation result on training set\n",
        "print(f\"Training CV result using {scoring}  Metrics\\n\")\n",
        "for name, model_r2_score in models_cv_results.items():\n",
        "    print(f\"{name} : {model_r2_score: .4f} \")\n",
        "#print r2_score on test set\n",
        "print(f\"\\n {scoring} result on testset \\n\")\n",
        "for name, model_score in model_scores.items():\n",
        "    print(f\"{name} : {model_score: .4f}\")\n",
        "\n",
        "Best_model = max(model_scores, key = model_scores.get)\n",
        "print(f\"\\n Best Model is {Best_model} with r2_score of {model_scores[Best_model]}\")"
      ]
    },
    {
      "cell_type": "markdown",
      "id": "8d1758ac",
      "metadata": {
        "id": "8d1758ac"
      },
      "source": [
        "## Conclusion\n",
        "\n",
        "5 model has been sucessfully used to predict house price, out of the 5 model compare, RandomForestRegressor perform better with r2_score of 78%.\n",
        "we also see that standardizing input variable has negative effect on the performance of our metrics"
      ]
    },
    {
      "cell_type": "markdown",
      "id": "bc7e8ef8",
      "metadata": {
        "id": "bc7e8ef8"
      },
      "source": [
        "## Part 2. Hyperparameter Tuning with GridSearchCV for  a Classification problem"
      ]
    },
    {
      "cell_type": "markdown",
      "id": "eddc78a5",
      "metadata": {
        "id": "eddc78a5"
      },
      "source": [
        "The pima indian dataset is a good dataset for developing a predictive model to classify if a patient will have diabetes or not, it is a binary classification problem. In this problem i have employed Accuracy as my scoring metrics, that is how accurately the model is able to predict if a patient will have diabetes"
      ]
    },
    {
      "cell_type": "code",
      "execution_count": null,
      "id": "eaaca481",
      "metadata": {
        "id": "eaaca481",
        "outputId": "75d2cf3d-3cf0-4a17-ff56-3c17b3818c06"
      },
      "outputs": [
        {
          "data": {
            "text/html": [
              "<div>\n",
              "<style scoped>\n",
              "    .dataframe tbody tr th:only-of-type {\n",
              "        vertical-align: middle;\n",
              "    }\n",
              "\n",
              "    .dataframe tbody tr th {\n",
              "        vertical-align: top;\n",
              "    }\n",
              "\n",
              "    .dataframe thead th {\n",
              "        text-align: right;\n",
              "    }\n",
              "</style>\n",
              "<table border=\"1\" class=\"dataframe\">\n",
              "  <thead>\n",
              "    <tr style=\"text-align: right;\">\n",
              "      <th></th>\n",
              "      <th>Pregnancies</th>\n",
              "      <th>Glucose</th>\n",
              "      <th>BloodPressure</th>\n",
              "      <th>SkinThickness</th>\n",
              "      <th>Insulin</th>\n",
              "      <th>BMI</th>\n",
              "      <th>DiabetesPedigreeFunction</th>\n",
              "      <th>Age</th>\n",
              "      <th>Outcome</th>\n",
              "    </tr>\n",
              "  </thead>\n",
              "  <tbody>\n",
              "    <tr>\n",
              "      <th>0</th>\n",
              "      <td>6</td>\n",
              "      <td>148</td>\n",
              "      <td>72</td>\n",
              "      <td>35</td>\n",
              "      <td>0</td>\n",
              "      <td>33.6</td>\n",
              "      <td>0.627</td>\n",
              "      <td>50</td>\n",
              "      <td>1</td>\n",
              "    </tr>\n",
              "    <tr>\n",
              "      <th>1</th>\n",
              "      <td>1</td>\n",
              "      <td>85</td>\n",
              "      <td>66</td>\n",
              "      <td>29</td>\n",
              "      <td>0</td>\n",
              "      <td>26.6</td>\n",
              "      <td>0.351</td>\n",
              "      <td>31</td>\n",
              "      <td>0</td>\n",
              "    </tr>\n",
              "    <tr>\n",
              "      <th>2</th>\n",
              "      <td>8</td>\n",
              "      <td>183</td>\n",
              "      <td>64</td>\n",
              "      <td>0</td>\n",
              "      <td>0</td>\n",
              "      <td>23.3</td>\n",
              "      <td>0.672</td>\n",
              "      <td>32</td>\n",
              "      <td>1</td>\n",
              "    </tr>\n",
              "    <tr>\n",
              "      <th>3</th>\n",
              "      <td>1</td>\n",
              "      <td>89</td>\n",
              "      <td>66</td>\n",
              "      <td>23</td>\n",
              "      <td>94</td>\n",
              "      <td>28.1</td>\n",
              "      <td>0.167</td>\n",
              "      <td>21</td>\n",
              "      <td>0</td>\n",
              "    </tr>\n",
              "    <tr>\n",
              "      <th>4</th>\n",
              "      <td>0</td>\n",
              "      <td>137</td>\n",
              "      <td>40</td>\n",
              "      <td>35</td>\n",
              "      <td>168</td>\n",
              "      <td>43.1</td>\n",
              "      <td>2.288</td>\n",
              "      <td>33</td>\n",
              "      <td>1</td>\n",
              "    </tr>\n",
              "  </tbody>\n",
              "</table>\n",
              "</div>"
            ],
            "text/plain": [
              "   Pregnancies  Glucose  BloodPressure  SkinThickness  Insulin   BMI  \\\n",
              "0            6      148             72             35        0  33.6   \n",
              "1            1       85             66             29        0  26.6   \n",
              "2            8      183             64              0        0  23.3   \n",
              "3            1       89             66             23       94  28.1   \n",
              "4            0      137             40             35      168  43.1   \n",
              "\n",
              "   DiabetesPedigreeFunction  Age  Outcome  \n",
              "0                     0.627   50        1  \n",
              "1                     0.351   31        0  \n",
              "2                     0.672   32        1  \n",
              "3                     0.167   21        0  \n",
              "4                     2.288   33        1  "
            ]
          },
          "execution_count": 89,
          "metadata": {},
          "output_type": "execute_result"
        }
      ],
      "source": [
        "# load dataset from file directory\n",
        "df2 = pd.read_csv('diabetes.csv')\n",
        "\n",
        "#check first five rows(5)\n",
        "df2.head()"
      ]
    },
    {
      "cell_type": "code",
      "execution_count": null,
      "id": "2b7bd398",
      "metadata": {
        "id": "2b7bd398",
        "outputId": "7b25f130-1a7d-40a8-f474-01aff5012b76"
      },
      "outputs": [
        {
          "data": {
            "text/html": [
              "<div>\n",
              "<style scoped>\n",
              "    .dataframe tbody tr th:only-of-type {\n",
              "        vertical-align: middle;\n",
              "    }\n",
              "\n",
              "    .dataframe tbody tr th {\n",
              "        vertical-align: top;\n",
              "    }\n",
              "\n",
              "    .dataframe thead th {\n",
              "        text-align: right;\n",
              "    }\n",
              "</style>\n",
              "<table border=\"1\" class=\"dataframe\">\n",
              "  <thead>\n",
              "    <tr style=\"text-align: right;\">\n",
              "      <th></th>\n",
              "      <th>Model Nmae</th>\n",
              "      <th>Best Accuracy Score</th>\n",
              "      <th>Best Parameter</th>\n",
              "    </tr>\n",
              "  </thead>\n",
              "  <tbody>\n",
              "    <tr>\n",
              "      <th>0</th>\n",
              "      <td>Logistic Regression</td>\n",
              "      <td>0.753247</td>\n",
              "      <td>LogisticRegression(C=10, solver='liblinear')</td>\n",
              "    </tr>\n",
              "    <tr>\n",
              "      <th>1</th>\n",
              "      <td>Decision Tree Classifier</td>\n",
              "      <td>0.759740</td>\n",
              "      <td>DecisionTreeClassifier(max_depth=30, min_sampl...</td>\n",
              "    </tr>\n",
              "    <tr>\n",
              "      <th>2</th>\n",
              "      <td>Random Forest Classifier</td>\n",
              "      <td>0.753247</td>\n",
              "      <td>(DecisionTreeClassifier(max_depth=10, max_feat...</td>\n",
              "    </tr>\n",
              "    <tr>\n",
              "      <th>3</th>\n",
              "      <td>Support Vector Classifier</td>\n",
              "      <td>0.727273</td>\n",
              "      <td>SVC(C=1)</td>\n",
              "    </tr>\n",
              "    <tr>\n",
              "      <th>4</th>\n",
              "      <td>K-Nearest Neighbors</td>\n",
              "      <td>0.681818</td>\n",
              "      <td>KNeighborsClassifier(n_neighbors=7)</td>\n",
              "    </tr>\n",
              "  </tbody>\n",
              "</table>\n",
              "</div>"
            ],
            "text/plain": [
              "                  Model Nmae  Best Accuracy Score  \\\n",
              "0        Logistic Regression             0.753247   \n",
              "1   Decision Tree Classifier             0.759740   \n",
              "2   Random Forest Classifier             0.753247   \n",
              "3  Support Vector Classifier             0.727273   \n",
              "4        K-Nearest Neighbors             0.681818   \n",
              "\n",
              "                                      Best Parameter  \n",
              "0       LogisticRegression(C=10, solver='liblinear')  \n",
              "1  DecisionTreeClassifier(max_depth=30, min_sampl...  \n",
              "2  (DecisionTreeClassifier(max_depth=10, max_feat...  \n",
              "3                                           SVC(C=1)  \n",
              "4                KNeighborsClassifier(n_neighbors=7)  "
            ]
          },
          "execution_count": 91,
          "metadata": {},
          "output_type": "execute_result"
        }
      ],
      "source": [
        "# importing libraries\n",
        "from sklearn.model_selection import GridSearchCV, train_test_split\n",
        "from sklearn.metrics import accuracy_score, classification_report\n",
        "from sklearn.linear_model import LogisticRegression\n",
        "from sklearn.tree import DecisionTreeClassifier\n",
        "from sklearn.ensemble import RandomForestClassifier\n",
        "from sklearn.svm import SVC\n",
        "from sklearn.neighbors import KNeighborsClassifier\n",
        "from sklearn.discriminant_analysis import LinearDiscriminantAnalysis\n",
        "\n",
        "# split data into input and output\n",
        "X = df2.drop('Outcome', axis = 1)\n",
        "y = df2['Outcome']\n",
        "\n",
        "# standardize input features\n",
        "scalar = StandardScaler()\n",
        "rescale_X = scalar.fit_transform(X)\n",
        "\n",
        "# Split the data into train and test sets\n",
        "X_train, X_test, y_train, y_test = train_test_split(rescale_X, y, test_size=0.2, random_state=42)\n",
        "\n",
        "# classification Models\n",
        "models = {\n",
        "    'Logistic Regression': LogisticRegression(),\n",
        "    'Decision Tree Classifier': DecisionTreeClassifier(),\n",
        "    'Random Forest Classifier': RandomForestClassifier(),\n",
        "    'Support Vector Classifier': SVC(),\n",
        "    'K-Nearest Neighbors': KNeighborsClassifier(),\n",
        "}\n",
        "\n",
        "# define hyperparameter for the models\n",
        "\n",
        "param_grids = [\n",
        "    # Logistic Regression\n",
        "    {'C': [0.1, 1, 10], 'solver': ['liblinear', 'saga']},\n",
        "\n",
        "    # Decision Tree Classifier\n",
        "    {'max_depth': [None, 10, 20, 30], 'min_samples_split': [2, 5, 10]},\n",
        "\n",
        "    # Random Forest Classifier\n",
        "    {'n_estimators': [50, 100, 200], 'max_depth': [None, 10, 20, 30]},\n",
        "\n",
        "    # Support Vector Classifier\n",
        "    {'C': [0.1, 1, 10], 'kernel': ['linear', 'rbf']},\n",
        "\n",
        "    # K-Nearest Neighbors\n",
        "    {'n_neighbors': [3, 5, 7], 'weights': ['uniform', 'distance']},\n",
        "\n",
        "]\n",
        "\n",
        "# Perform GridSearchCV for each model\n",
        "\n",
        "best_models = {}  #save best model parameter for prediction\n",
        "best_params = {}  #save best parameters\n",
        "model_accuracy = {}  # save accuracy score for each model\n",
        "\n",
        "for model_name, model in models.items():\n",
        "    grid_search = GridSearchCV(model, param_grids.pop(0), cv=5, scoring='accuracy')\n",
        "    grid_search.fit(X_train, y_train)\n",
        "    best_models[model_name] = grid_search.best_estimator_\n",
        "    best_params[model_name] = grid_search.best_params_\n",
        "\n",
        "# Evaluate the best models on the test set\n",
        "for model_name, best_model in best_models.items():\n",
        "    predictions = best_model.predict(X_test)\n",
        "    #score the model\n",
        "    accuracy = accuracy_score(y_test, predictions)\n",
        "    model_accuracy[model_name]= accuracy\n",
        "\n",
        "# save summary of model in a list\n",
        "model_summary = []\n",
        "for model_name, best_param in best_models.items():\n",
        "    model_summary.append((model_name, model_accuracy[model_name], best_param,))\n",
        "\n",
        "# save summary list in a dataframe\n",
        "pd.DataFrame(model_summary, columns = ['Model Name', 'Best Accuracy Score', 'Best Parameter'])"
      ]
    }
  ],
  "metadata": {
    "kernelspec": {
      "display_name": "Python 3 (ipykernel)",
      "language": "python",
      "name": "python3"
    },
    "language_info": {
      "codemirror_mode": {
        "name": "ipython",
        "version": 3
      },
      "file_extension": ".py",
      "mimetype": "text/x-python",
      "name": "python",
      "nbconvert_exporter": "python",
      "pygments_lexer": "ipython3",
      "version": "3.11.5"
    },
    "colab": {
      "provenance": [],
      "include_colab_link": true
    }
  },
  "nbformat": 4,
  "nbformat_minor": 5
}